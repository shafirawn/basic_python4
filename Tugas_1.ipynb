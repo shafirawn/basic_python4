{
 "cells": [
  {
   "cell_type": "code",
   "execution_count": 1,
   "metadata": {},
   "outputs": [
    {
     "name": "stdout",
     "output_type": "stream",
     "text": [
      "Nama saya  Fira ,  umur saya  22  tahun, dan tinggi saya  1.62 cm.\n"
     ]
    }
   ],
   "source": [
    "#Soal 1\n",
    "\n",
    "Nama= \"Fira\"\n",
    "Umur= 22\n",
    "Tinggi= 1.62\n",
    "\n",
    "print(\"Nama saya \", Nama,\",\",\" umur saya \", Umur, \" tahun, dan tinggi saya \", Tinggi, \"cm.\")"
   ]
  },
  {
   "cell_type": "code",
   "execution_count": 11,
   "metadata": {},
   "outputs": [
    {
     "name": "stdout",
     "output_type": "stream",
     "text": [
      "Luas lingkaran dengan jari-jari 10 cm adalah : 314.2857142857143 cm\n"
     ]
    }
   ],
   "source": [
    "#Soal 2\n",
    "\n",
    "phi = 22/7\n",
    "r =10\n",
    "luas = phi*r*r\n",
    "print(\"Luas lingkaran dengan jari-jari 10 cm adalah : \"+ str(luas),\"cm\")"
   ]
  },
  {
   "cell_type": "code",
   "execution_count": 15,
   "metadata": {},
   "outputs": [
    {
     "name": "stdout",
     "output_type": "stream",
     "text": [
      "Anda harus mengulang ujian praktek! \n"
     ]
    }
   ],
   "source": [
    "#Soal 3\n",
    "UjianTeori = 71\n",
    "UjianPraktek = 69\n",
    "\n",
    "if UjianTeori & UjianPraktek >= 70:\n",
    "    print(\"Selamat, Anda Lulus!\")\n",
    "elif UjianTeori >= 70 & UjianPraktek < 70:\n",
    "    print(\"Anda harus mengulang ujian praktek! \")\n",
    "elif UjianTeori < 70 & UjianPraktek >= 70:\n",
    "    print(\"Anda harus mengulang ujian teori!\")\n",
    "else:\n",
    "    print(\"Anda harus mengulang ujian\")"
   ]
  }
 ],
 "metadata": {
  "kernelspec": {
   "display_name": "Python 3",
   "language": "python",
   "name": "python3"
  },
  "language_info": {
   "codemirror_mode": {
    "name": "ipython",
    "version": 3
   },
   "file_extension": ".py",
   "mimetype": "text/x-python",
   "name": "python",
   "nbconvert_exporter": "python",
   "pygments_lexer": "ipython3",
   "version": "3.8.5"
  }
 },
 "nbformat": 4,
 "nbformat_minor": 4
}
